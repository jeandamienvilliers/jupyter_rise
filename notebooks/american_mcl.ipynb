{
 "cells": [
  {
   "cell_type": "markdown",
   "metadata": {
    "slideshow": {
     "slide_type": "slide"
    }
   },
   "source": [
    "# American Monte-Carlo\n",
    "## Longstaff and Schwartz algorithm: Python implementation"
   ]
  },
  {
   "cell_type": "markdown",
   "metadata": {
    "slideshow": {
     "slide_type": "slide"
    }
   },
   "source": [
    "## Different type of call / cancellation / exercise rights\n",
    "1.   Callable Loan\n",
    "2.   Cancellable product\n",
    "3.   Bermudan Swaption\n",
    "4.   American Put Option\n",
    "\n",
    "## Longstaff and Schwartz algorithm\n",
    "1.   Approximation of Continuation Value\n",
    "2.   Polynomials in NumPy\n",
    "3.   Longstaff-Schwartz Algorithm in Python"
   ]
  },
  {
   "cell_type": "markdown",
   "metadata": {
    "slideshow": {
     "slide_type": "slide"
    }
   },
   "source": [
    "## 1. Callable Loan\n",
    "\n"
   ]
  }
 ],
 "metadata": {
  "celltoolbar": "Slideshow",
  "kernelspec": {
   "display_name": "Python 3",
   "language": "python",
   "name": "python3"
  },
  "language_info": {
   "codemirror_mode": {
    "name": "ipython",
    "version": 3
   },
   "file_extension": ".py",
   "mimetype": "text/x-python",
   "name": "python",
   "nbconvert_exporter": "python",
   "pygments_lexer": "ipython3",
   "version": "3.8.5"
  }
 },
 "nbformat": 4,
 "nbformat_minor": 4
}
